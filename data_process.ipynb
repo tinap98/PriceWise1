{
 "cells": [
  {
   "cell_type": "code",
   "execution_count": 1,
   "metadata": {},
   "outputs": [
    {
     "name": "stdout",
     "output_type": "stream",
     "text": [
      "Loading datasets...\n",
      "Removing duplicates...\n",
      "Saving cleaned datasets...\n",
      "Done!\n"
     ]
    }
   ],
   "source": [
    "import pandas as pd\n",
    "\n",
    "print(\"Loading datasets...\")\n",
    "flipkart_df = pd.read_csv('flipkart_product_details_with_links.csv')\n",
    "amazon_df = pd.read_csv('amazon_product_details_with_links.csv')\n",
    "\n",
    "print(\"Removing duplicates...\")\n",
    "flipkart_df = flipkart_df.drop_duplicates()\n",
    "amazon_df = amazon_df.drop_duplicates()\n",
    "\n",
    "print(\"Saving cleaned datasets...\")\n",
    "flipkart_df.to_csv('flipkart_product_details_with_links.csv', index=False)\n",
    "amazon_df.to_csv('amazon_product_details_with_links.csv', index=False)\n",
    "\n",
    "print(\"Done!\")\n"
   ]
  }
 ],
 "metadata": {
  "kernelspec": {
   "display_name": "Python 3",
   "language": "python",
   "name": "python3"
  },
  "language_info": {
   "codemirror_mode": {
    "name": "ipython",
    "version": 3
   },
   "file_extension": ".py",
   "mimetype": "text/x-python",
   "name": "python",
   "nbconvert_exporter": "python",
   "pygments_lexer": "ipython3",
   "version": "3.12.6"
  }
 },
 "nbformat": 4,
 "nbformat_minor": 2
}
